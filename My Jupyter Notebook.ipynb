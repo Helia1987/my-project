{
 "cells": [
  {
   "cell_type": "markdown",
   "id": "c87b42bf-9d40-4090-b1f9-276286738b25",
   "metadata": {},
   "source": [
    "# \"My Jupyter Notebook on IBM Watson Studio\""
   ]
  },
  {
   "cell_type": "markdown",
   "id": "938ce292-cad6-4dd1-9b5d-7ad435d84d03",
   "metadata": {},
   "source": [
    "__Helia Mahdavi__\n",
    "\n",
    "Data scientist"
   ]
  },
  {
   "cell_type": "markdown",
   "id": "b9a2e416-30b1-47b2-869b-7753b6d1a8d1",
   "metadata": {},
   "source": [
    "*I am interested in data science because I would love to contribute to finding new ways for environmental conservation.*"
   ]
  },
  {
   "cell_type": "markdown",
   "id": "cae20b64-d3ae-4da9-bbfd-8d4bb49afc4d",
   "metadata": {},
   "source": [
    "### The bellow print \"The course IBM Data Science Specialization is an excellent course for becoming Data Scientist.\""
   ]
  },
  {
   "cell_type": "code",
   "execution_count": 6,
   "id": "4859af1e-813b-4f8f-853f-c2ce4cb55a64",
   "metadata": {},
   "outputs": [
    {
     "name": "stdout",
     "output_type": "stream",
     "text": [
      "The course IBM Data Science Specialization is an excellent course for becoming Data Scientist.\n"
     ]
    }
   ],
   "source": [
    "print(\"The course IBM Data Science Specialization is an excellent course for becoming Data Scientist.\")"
   ]
  },
  {
   "cell_type": "markdown",
   "id": "5a6bda26-3173-4e4b-87e9-75f13108e33c",
   "metadata": {},
   "source": [
    "|course name  |Basic Info|Level|Commitment|Language|How To Pass|\n",
    "|-------------|----------|-----|----------|--------|-----------|\n",
    "|tools for  Data science|Course 2 of 10 in the IBM Data Science Specialization|Beginner|3 weeks of study, 2-3 hours/week| English| Pass all graded assignments to complete the course.|\n",
    "\n",
    "   \n",
    "    \n",
    "    \n",
    "- Syllabus\n",
    "    * Data Scientist's Toolkit\n",
    "    * Open Source Tools\n",
    "    * IBM Tools for Data Science \n",
    "    * Final Assignment: Create and Share Your Jupyter Notebook\n",
    "    \n",
    "    \n",
    "\n",
    "Link for the course :\n",
    "https://www.coursera.org/learn/open-source-tools-for-data-science\n"
   ]
  }
 ],
 "metadata": {
  "kernelspec": {
   "display_name": "Python",
   "language": "python",
   "name": "conda-env-python-py"
  },
  "language_info": {
   "codemirror_mode": {
    "name": "ipython",
    "version": 3
   },
   "file_extension": ".py",
   "mimetype": "text/x-python",
   "name": "python",
   "nbconvert_exporter": "python",
   "pygments_lexer": "ipython3",
   "version": "3.7.12"
  },
  "toc-autonumbering": false,
  "toc-showmarkdowntxt": false,
  "toc-showtags": false
 },
 "nbformat": 4,
 "nbformat_minor": 5
}
